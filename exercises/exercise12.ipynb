{
 "cells": [
  {
   "cell_type": "markdown",
   "metadata": {},
   "source": [
    "# Aufgabe 2 (Am weitesten entfernte Punkte)\n",
    "\n",
    "Das Paar von Punkten mit dem größten Abstand muss mit beiden Punkten auf der konvexen Hülle liegen. Andernfalls könnte man einen der beiden Punkte mit einem Punkt auf der konvexen Hülle ersetzen und würde einen größeren Abstand bekommen.\n",
    "\n",
    "Haben wir die konvexe Hülle, so lässt sich beobachten, dass die Punkte mit dem größten Abstand gegenüberliegend sein müssen. Punkt $a$ und $b$ heißen hier gegenüberliegend, wenn es zwei parallele Geraden gibt, die jeweils durch $a$ und $b$ aber nur außerhalb der konvexen Hülle verlaufen, bzw diese nie schneiden. \n",
    "\n",
    "Um das Paar von Punkten mit dem größten Abstand zu finden, reicht es also aus alle Paare von gegenüberliegenden Punkte auf der konvexen Hülle zu vergleichen.\n",
    "\n",
    "Um alle Paare von gegenüberliegenden Punkten auf der konvexen Hülle mit $N$ Punkten zu finden, gehe wir wie folgt vor:\n",
    "\n",
    "Zu Beginn suchen wir ein beliebeiges gegenüberliegendes Paar. Dafür reicht es, sich einen beliebigen Punkt auszusuchen und dann für jeden anderen Punnkt zu prüfen, ob dieser gegenüberliegend ist. Im schlimmsten Fall, müssen wir dies für alle anderen Punkte auf der konvexen Hülle machen. Die Laufzeit hierfür ist also $O(N)$.\n",
    "\n",
    "Haben wir ein Paar von gegenüberliegenden Punkten, so können wir die anderen Paare finden, in dem wir immer Schrittweise vom aktuellen gegenüberliegenden Paar den Pointer des ersten oder des zweiten Punktes im Zyklus der konvexen Hülle weiterschieben. Abhängig vom Winkel der beiden Geraden, muss entweder der eine oder der andere Pointer zyklisch zum nächsten Punkt bewegt werden (Rotating Calipers Prinzip).\n",
    "Für jedes neue Paar berechnen wir zudem die Distanz und updaten das Paar mit der bisher größten Distanz (in $O(1)$). \n",
    "Da wir uns dabei aber nur genau einmal um die konvexe Hülle bewegen, haben wir hier immer maximal $O(N)$ Pointer-Verschiebungen und Vergleiche. Dadurch können wir alle Paare von gegenüberliegenden Punkten, sowie das Paar mit der größten Distanz in $O(N)$ erhalten.\n",
    "\n",
    "Das Berechnen der konvexen Hülle ist wie in der Vorlesung gezeigt in $O(n \\log n)$ möglich. Im schlechtesten Fall enthält die konvexe Hülle dabei alle $n$ Punkte. In diesem Fall liegt das Finden aller gegenüberliegenden Punkte, sowie das Finden des Paares mit der größten Distanz in $O(n)$. Insgesamt können wir somit das Paar von Punkten mit der größten Distanz in $O(n \\log n)$ finden."
   ]
  },
  {
   "cell_type": "markdown",
   "metadata": {},
   "source": [
    "# Aufgabe 3 (NP-schwere Probleme)\n",
    "\n",
    "## a) Bahnkundencenter\n",
    "\n",
    "Das Bahnkundencenter Problem ist äquivalent mit dem NP-schweren Problem Minimal Vertex Cover.\n",
    "\n",
    "Die Eingabe eines ungewichteten, ungerichteten Graphens können wir dabei ohne Umformung als Eingabe für Minimal Vertex Cover verwenden. Zudem gilt, dass wenn wir das Bankundencenter Problem lösen, wir damit auch Minimal Vertex Cover gelöst haben.\n",
    "\n",
    "In einer Lösung für das Bahnkundencenter Problem gilt für jede Kante $(a, b)$, dass entweder $a$ oder $b$, oder $a$ und $b$ Bahnkundencenter sein müssen. Dies entspricht jedoch auch der Definition von Vertex Conver, da von jeder Kante $(a, b)$ eine der verbundenen Knoten Teil der Hülle sein muss.\n",
    "\n",
    "Da Minimal Vertex Cover wie in der Vorleung gezeigt NP-schwer ist, muss das Bahnkundencenter Problem auch NP-schwer sein. Andernfalls könnte man einfach die Ausgabe vom Bahnkundencenter Problem als Ausgabe für das Minimal Vertex Cover Problem nehmen und hätte somit einen Algorithmus für Minimal Vertex Cover, der nicht NP-schwer ist, was ein Widerspruch wäre.\n",
    "\n",
    "## b) Skiurlaubkofferraum\n",
    "\n",
    "Das Skiurlaubkofferraum Problem ist äquivalent mit dem NP-schweren Knapsack Optimisierungsproblem.\n",
    "\n",
    "Die Definition von Knapsack ist wie folgt: Gegeben ein Menge aus $n$ Gegenständen, die jeweils ein Gewicht $w$ und einen Wert $v$ haben, sowie ein maximales Gesamtgewicht $W$. Finde die Teilmenge der Gegenstände, die die Summe der Werte der enthaltenen Gegenstände maximiert, wobei das Gesamtgewicht der Gegenstände kleiner als $W$ ist.\n",
    "\n",
    "Ersetzt man den Wert mit Wichtigkeit und das Gewicht mit Volumen, so ist klar, dass das Problem äquivalent mit dem Knapsack Problem ist.\n",
    "\n",
    "Wäre Skiurlaubkofferraum also nicht NP-schwer, so kann Knapsack auch nicht NP-schwer sein. Da Knapsack bewiesen NP-schwer ist, muss Skirulaubkofferraum auch NP-schwer sein.\n",
    "\n",
    "## c) SeltsamSAT\n",
    "\n",
    "Das NP-schwere Problem 3-SAT lässt sich auf SeltsamSAT reduzieren. Jede valide Eingabe für 3-SAT ist bereits eine valide Eingabe für SeltsamSAT, da bei 3-SAT jede klausel maximal drei unterschiedliche Literale hat.  Wir können also jedes 3-SAT Problem mit einem Algorithmus für SeltsamSAT lösen. Da 3-SAT NP-schwer ist, muss auch SeltsamSAT NP-Schwer sein, da wir ansonsten einen nicht NP-schweren Algorithmus hätten, der 3-SAT lösen kann."
   ]
  }
 ],
 "metadata": {
  "kernelspec": {
   "display_name": "Python 3",
   "language": "python",
   "name": "python3"
  },
  "language_info": {
   "codemirror_mode": {
    "name": "ipython",
    "version": 3
   },
   "file_extension": ".py",
   "mimetype": "text/x-python",
   "name": "python",
   "nbconvert_exporter": "python",
   "pygments_lexer": "ipython3",
   "version": "3.6.4"
  }
 },
 "nbformat": 4,
 "nbformat_minor": 2
}
