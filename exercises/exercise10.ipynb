{
 "cells": [
  {
   "cell_type": "markdown",
   "metadata": {},
   "source": [
    "# Aufgabe 1 (Anzahl null-Zeiger in gerichtetem Binärbaum)\n",
    "\n",
    "**z.Z:** Jeder gerichtete Binärbaum mit $k$ Knoten hat genau $k+1$ viele Kinder-null-Zeiger.\n",
    "\n",
    "**Beweis durch Induktion:**\n",
    "\n",
    "Jeden Binärbaum kann man durch schrittweises Einfügen von Knoten erzeugen. Hierbei muss nach jedem Einfügen die obige Annahme gelten. Neue Knoten können nur als Kinder von anderen Knoten, die Kinder-null-Zeiger haben eingefügt werden. Ein Knoten, andem wir einen anderen Knoten einfügen können, kann dabei entweder einen oder zwei Kinder-null-Zeiger haben.\n",
    "\n",
    "**IA:** Gegeben ein Binärbaum mit einem Knoten.\n",
    "\n",
    "Ein Binärbaum mit einem Knoten hat immer zwei Kinder-Zeiger. Da der Knoten keine Kinder hat, hat der Baum daher zwei Kinder-null-Zeiger. Die Aussage gilt somit für einen Knoten.\n",
    "\n",
    "**IS:** Gegeben ein Binärbaum mit $i$ Knoten, für den die Annahme gilt. Nun wird ein weiterer Knoten $c$ an den Knoten $p$ eingefügt.\n",
    "\n",
    "**Fall 1 - $p$ hat zwei Kinder-null-Zeiger:** Nach Einfügen von $c$ an $p$ hat $p$ nur noch einen Kinder-null-Zeiger. Knoten $c$ hat jedoch zwei Kinder-null-Zeiger, da er nach Einfügen selber noch keine Kinder hat. Hatten wir vor Einfügen von $c$ $k+1$ viele Kinder-null-Zeiger, dann haben wir nach Einfügen bei $k' = k+1$ vielen Knoten $k'+1$ viele Kinder-null-Zeiger, da $p$ zwar einen Zeiger verliert, aber durch $c$ zwei weiter hinzukommen. Die Annahme stimmt also für diesen Fall.\n",
    "\n",
    "**Fall 2 - $p$ hat einen Kinder-null-Zeiger:** Nach Einfügen von $c$ an $p$ hat $p$ keine Kinder-null-Zeiger mehr. $c$ hat jedoch wie zuvor zwei Kinder-null-Zeiger, da er frisch Eingefügt wurde. Insgesamt kommt also ein Kinder-null-Zeiger hinzu. Hatten wir also zuvor bei $k$ vielen Knoten $k+1$ viele Kinder-null-Zeiger, dann haben wir nach Einfügen bei $k' = k + 1$ vielen Knoten $k' + 1$ viele Kinder-null-Zeiger. Auch hier gilt die Bedingung.\n",
    "\n",
    "Da gezeigt ist, dass die Annahme für einen neuen Baum, sowie nach jedem Einfügen gilt, muss die Annahme für alle gerichteten Binärbäume gelten."
   ]
  },
  {
   "cell_type": "markdown",
   "metadata": {},
   "source": [
    "# Aufgabe 2 (AVL-Bäume)\n",
    "\n",
    "## a)\n",
    "\n",
    "![](https://user-images.githubusercontent.com/7422050/34963031-ad483c94-fa46-11e7-8548-131a14700f94.png)\n",
    "\n",
    "## b)\n",
    "\n",
    "![](https://user-images.githubusercontent.com/7422050/34963129-28c5d2e6-fa47-11e7-8504-f5b786949bf8.png)"
   ]
  },
  {
   "cell_type": "markdown",
   "metadata": {},
   "source": [
    "# Aufgabe 3 (Treaps)\n",
    "\n",
    "## a)\n",
    "\n",
    "![](https://user-images.githubusercontent.com/7422050/34963033-ad6179e8-fa46-11e7-827f-b347bde69628.png)\n",
    "\n",
    "## b) Treap zu binärem Suchbaum\n",
    "\n",
    "Um zu zeigen, dass der entstehende binäre Suchbaum exakt derselbe Baum wie der Treap ist, ist zu zeigen, dass jeder Knoten im enstehenden Suchbaum den gleichen Vater wie im Treap bekommt und dass er auch wie im Treap das rechte oder linke Kind seines Vaters ist.\n",
    "\n",
    "Aus den Min-Heap Eigenschaften des Treaps folgt, dass jeder Vater vor seinem Kind im Binärbaum eingefügt werden muss. Dies gilt, weil im Treap der Vater eine kleinere Priorität als seine Kinder haben muss und somit auch zuerst in den Treap eingefügt wird.\n",
    "Wird also nun ein Knoten in den binären Suchbauum eingefügt, wissen wir, dass sein Vater bereits zuvor in den Suchbaum eingefügt wurde. Es exisitert als ein Pfad von der Wurzel zum Vater des Knotens. Da sowohl der Treap, als auch unser neuer Baum beides die Suchbaum-Eigenschaft erfüllen, wird nun das Kind im Suchbaum wieder an seinen Vater aus dem Treap gehängt (als richtiges rechtes oder linkes Kind). Würde das Kind im Suchbaum an einer anderen Stelle eingefügt werden, so müsse an einer Stelle im Treap die Suchbaum-Eigenschaft verletzt sein.\n",
    "\n",
    "Da jeder Knoten somit an den gleichen Vater mit der richtigen links/rechts Position wie im Treap gehangen wird, muss ein zum Treap identischer Suchbaum entstehen.\n",
    "\n",
    "## c) Erwartete Tiefe eines Knotens in binärem Suchbaum bei zufälligem Einfügen in $O(\\log n)$\n",
    "\n",
    "Wenn ich Schlüssel mit dem Verfahren aus **b)** in einen binären Suchbaum einfüge, ist die Einfügereihenfolge der Schlüssel auch zufällig. Dies liegt daran, dass der Rang jedes Schlüssels zufällig vergeben wird und die Schlüssel in **b)** sortiert nach ihrem Rang in den binären Suchbaum eingefügt werden. Da in **b)** gezeigt wurde, dass bei einem solchen Einfügen der binäre Baum exakt derselbe ist, wie der Treap und Treaps immer eine erwartete Tiefe in $O(\\log n)$ haben, muss der binäre Suchbaum, der durch zufälliges Einfügen der Schlüssel entsteht auch eine erwartete Tiefe in $O(\\log n)$ haben.\n",
    "\n",
    "## d) Erwartete Kosten von Randomized QuickSort in $O(n \\log n)$\n",
    "\n",
    "Jedes Pivot-Element wird zufällig gewählt. Nach jedem Partitionieren, sind alle Elemente links vom Pivot kleiner und alle Elemente rechts vom Pivot größer als das Pivot-Element. Da dies auch für alle rekursiven Durchläufe gilt, kann man sich alle Pivot-Elemente auch als binären Suchbaum vorstellen. Die Wurzel ist das erste Pivot. Das linke Kind ist nun das nächste Pivot im linken Teilarray, da dieses garantiert kleiner als die Wurzel sein muss. Das rechte Kind folglich das nächste Pivot im rechten Teilarray, usw. für alle Elemente aus dem Array.\n",
    "Da die Pivot-Elemente uniform zufällig gewählt werden, kann aus **c)** gefolgert werden, dass der binäre Suchbaum aller Pivot-Elemente eine erwartete Tiefe in $O(\\log n)$ hat. Beim Partitionieren muss immer das gewählte Pivot-Element mit allen anderen Elementen aus dem Teilarray verglichen werden. Daher gilt, dass die Anzahl der Vergleiche für einen Pivot-Knoten im binären Suchbaum gleichbedeutend mit der Anzahl seiner Kinder ist. Amortisiert auf alle Kinder, haben wir somit für jeden Knoten erwartet $O(\\log n)$ Vergleiche und erhalten somit insgesamte erwartete Kosten in $O(n \\log n)$."
   ]
  }
 ],
 "metadata": {
  "kernelspec": {
   "display_name": "Python 3",
   "language": "python",
   "name": "python3"
  },
  "language_info": {
   "codemirror_mode": {
    "name": "ipython",
    "version": 3
   },
   "file_extension": ".py",
   "mimetype": "text/x-python",
   "name": "python",
   "nbconvert_exporter": "python",
   "pygments_lexer": "ipython3",
   "version": "3.5.3"
  }
 },
 "nbformat": 4,
 "nbformat_minor": 2
}
