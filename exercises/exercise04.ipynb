{
 "cells": [
  {
   "cell_type": "markdown",
   "metadata": {},
   "source": [
    "# Aufgabe 1 (Alternative Online-Algorithmen)\n",
    "\n",
    "## a) LIFO\n",
    "\n",
    "**LIFO ist nicht $\\alpha$-Kompetitiv:** Gegeben sei ein Cache mit Größe $k = 2$ und der folgenden Startbelegung: $[A, B]$. Nun fragen wir mit der Anfragesequenz $\\{C, B, C, B\\}$ den Cache an. In diesem Fall haben wir unter Benutzung von LIFO vier Cache-Misses, wobei die Sequenz beliebig erweitert werden kann. Im Vergleich dazu hat die optimale Offline-Strategie nur einen Cache-Miss, unabhängig von der Länge der Sequenz. Solch eine Sequenz lässt sich für eine beliebige Cache-Größe $k$ bauen, wenn man mindestens ein Alphabet von $k + 1$ Elementen hat.\n",
    "\n",
    "## b) FIFO\n",
    "\n",
    "**FIFO ist $k$-Kompetitiv:** Gegeben ist ein Cache mit einer Kapazität von $k$. Nun nehmen wir ein beliebiges maximal langes Interval, indem ein Cache-Miss vorkommt. Aufgrund des FIFO Algorithmus, können wir schlussfolgern, dass die Anfragesequenz in diesem Interval mindestens $k+1$ paarweise verschiedene Seiten angefragt hat. Analog zu dem Beweis von LRU können wir nun zeigen, dass dies für alle Intervalle gelten muss. Da im schlimmsten Fall im Vergleich zum optimalen Offline-Algorithmus Mehrkosten zum $k$-fachen Faktor auftreten können, ist auch FIFO $k$-Kompetitiv. "
   ]
  },
  {
   "cell_type": "markdown",
   "metadata": {},
   "source": [
    "# Aufgabe 2 (Kreise bei Boruvka)\n",
    "\n",
    "Im MST-Algorithmus von Boruvka wird in der while-Schleife für jeden Baum $T$ aus $F$ die jeweilst kürzeste Kante, die in $G$ aus $T$ hinausführt zur Menge $S$ hinzugefügt. Am Ende der Schleife werden alle Kanten aus $S$ in den Wald $F$ eingeführt. Nun gilt zu zeigen, dass hierbei kein Kreis in $F$ entstehen kann.\n",
    "\n",
    "Sei $e_1$ die kürzeste Kante, die in $G$ aus $T_1$ hinausführt. Da jeder Knoten entweder sein eigener Baum oder Teil eines größeren Baums ist, muss $e_1$ zwei Bäume, hier $T_1$ und $T_2$ verbinden.  \n",
    "Ein Kreis würde entstehen, wenn im Verlauf des Algorithmus neben der Kante $e_1$ auch noch die Kante $e_2$ ausgewählt wird, die auch die Bäume $T_1$ und $T_2$ verbindet. Nehmen wir zunächst an, die Kante $e_2$ wird im Verlauf des Algorithmus zu $S$ hinzugefügt. Dies könnte in zwei Fällen passieren:\n",
    "\n",
    "1. **$e_2$ wird als kürzeste Kante, die in $G$ aus $T_1$ hinausführt gewählt (und $T_1$ mit $T_2$ verbindet):** Dieser Fall kann nicht auftreten, da nach Definition bereits $e_1$ die kürzeste Kante ist, die in $G$ aus $T_1$ hinausführt. Da alle Gewichte paarweise verschieden sind (durch konsistentes tie-breaking), kann es nur eine kürzeste Kante geben, die aus $T_1$ hinausführt. Es wird also immer nur $e_1$ und nie $e_2$ gewählt.\n",
    "\n",
    "2. **$e_2$ wir als kürzeste Kante, die in $G$ aus $T_2$ hinausführt gewählt (und $T_2$ mit $T_1$ verbindet):** Auch dieser Fall kann nicht auftreten. Da alle Kanten ungerichtet sind, sind auch alle Kanten, die aus $T_1$ herausführen und in $T_2$ hineinführen Kandidaten für diesen Schritt. Darunter ist auch die Kante $e_1$. Da bereits $e_1$ als kürzeste Kante gewählt wurde, die aus $T_1$ in $T_2$ hineinführt, muss diese auch die kürzeste Kante sein, die aus $T_2$ nach $T_1$ führt. Natürlich könnte in diesem Fall die Kante $e_3$ gewählt werden, welche kürzes als $e_1$ sein könnte. Diese kann dann aber nicht nach $T_1$ führen, da die kürzeste Kante zwischen $T_1$ und $T_2$ $e_1$ ist. Somit kann auch hier kein Kreis entstehen.\n",
    "\n",
    "Da in jeder Iteration von Boruvka immer nur die kürzeste Kante gewählt wird, die zwei Bäume verbindet und diese Kante eindeutig ist, kann dadurch kein Kreis entstehen, da in diesem Fall zwei verschiedene Kanten als die jeweils eindeutig kürzeste gewählt werden musste."
   ]
  },
  {
   "cell_type": "markdown",
   "metadata": {},
   "source": [
    "# Aufgabe 3 (Alternative MST-Algorithmen)\n",
    "\n",
    "## a) KreiseAufbrechen\n",
    "\n",
    "**1. Algorithmus terminiert:** Der Alorithmus terminiert, da wir nur endlich viele Kreise haben und in jedem Schritt ein Kreis entfernt wird. Da wir nur Kanten entfernen, können auch keine neuen Kreise entstehen. Da immer nur Kreise aufgebrochen werden, bleibt der Graph zusammenhängend. Am Ende entsteht somit ein Spannbaum.\n",
    "\n",
    "**2. Algorithmus terminiert mit MST:** Annahme: Der Algorithmus entfernt die Kante $e_1$, welche Teil des MSTs ist. Da der Algorithmus immer die längste Kante des Kreises entfernt, muss es eine Kante $e_2$ geben, die kürzer als $e_1$ ist. Nach Definition von MST, wollen wir aber das Kantengewicht minimieren. In diesem Fall, kann $e_1$ somit nicht Teil des MSTs sein.\n",
    "\n",
    "Da der Algorithmus mit einem zusammenhängenden Baum terminiert und nur Kanten löscht, die nicht Teil des MSTs sind, terminiert er mit dem MST.\n",
    "\n",
    "## b) MST-Divide-and-Conquer\n",
    "\n",
    "Dieser Algorithmus funktioniert nicht. Angenommen wir haben einen Graphen mit den vier Knoten $A, B, C, D$ und den Kanten $(A, B, 1)$, $(B, C, 2)$, $(C, D, 1)$, $(D, A, 1)$. In diesem Fall, könnte der Graph in die gleich großen Instanzen $T_1 = \\{A, D\\}$ und $T_2 = \\{B, C\\}$ aufgeteilt werden. In diesem Fall, würde der Algorithmus mit dem Spannbaum $(A, D, 1)$, $(B, C, 2)$ und jeweils einer der beiden anderen Kanten mit dem Gewicht von 1 terminieren. Solch ein Spannbaum ist jedoch nicht minimal, da die Kante $(B, C, 2)$ nicht Teil des MSTs sein kann.\n",
    "\n",
    "## c) ReverseKruskal\n",
    "\n",
    "Ohne den Zusammenhang des Graphen zu zerstören, können wir nur Kanten löschen, die Teil eines Kreises sind. Da wir die Kanten absteigend nach ihrer Länge sortiert durch gehen, löschen wir daher immer die längste Kante jedes Kreises. Dadurch erhalten wir den selben Algorithmus wie bei **a)**, nur dass die Reihenfolge, mit der wir über die Kreise iterieren, spezifiziert ist. Da wir auch hier nur Kanten löschen, die nicht Teil des MSTs sind und der Baum zusammenhängend bleibt, terminiert der Algorithmus mit dem MST.\n",
    "\n",
    "## d) KantenKontraktion\n",
    "\n",
    "Auch dieser Algorithmus ist eine Variation von **a)**. Anstatt die längste Kante aus Kreisen zu entfernen, werden alle Kanten aus Kreisen, bis auf die längste dem MST hinzugefügt. Das Prinizp bleibt also das Gleiche, weshalb auch die Korrektheit nach **a)** gilt. \n",
    "\n",
    "## e) IteriertesZersägen \n",
    "\n",
    "**1. Algorithmus terminiert:** Der Algorithmus terminiert, da es nur endlich viele unmarkierte Kanten gibt und in jedem Schritt eine zusätzliche Kante markiert wird. Der Algorithmus terminiert zudem mit einem Spannbaum, da wir mit einem Spannbaum beginnen und in jedem Zug diesen in zwei Bäume aufteilen und direkt wieder verbinden. Dadurch sind immer noch alle Knoten verbunden, ohne dass Kreise entstehen.\n",
    "\n",
    "**2. Algorithmus terminiert mit MST:** Der Algorithmus terminiert zudem mit dem MST von $G$. Im Grunde bildet der Algorithmus in jedem Schritt eine Teilmenge $X \\subset V$ und fügen die kürzeste Kante hinzu, die genau einen Endpunkt in $X$ hat. Nach *Lemma 4* gilt, dass für jede Teilmenge $X \\subset V$, die kürzeste Kante mit einem Endpunkt in $X$ Teil des MSTs sein muss. Da der Algorithmus iterativ alle solche Kanten hinzufügt, terminiert er mit dem MST."
   ]
  }
 ],
 "metadata": {
  "kernelspec": {
   "display_name": "Python 3",
   "language": "python",
   "name": "python3"
  },
  "language_info": {
   "codemirror_mode": {
    "name": "ipython",
    "version": 3
   },
   "file_extension": ".py",
   "mimetype": "text/x-python",
   "name": "python",
   "nbconvert_exporter": "python",
   "pygments_lexer": "ipython3",
   "version": "3.5.3"
  }
 },
 "nbformat": 4,
 "nbformat_minor": 2
}
