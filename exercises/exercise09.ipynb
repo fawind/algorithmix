{
 "cells": [
  {
   "cell_type": "markdown",
   "metadata": {},
   "source": [
    "# Aufgabe 1 (SPT vs MST)\n",
    "\n",
    "## a) SPT ist MST\n",
    "\n",
    "Beweise oder widerlege folgende Aussage: Für jeden Graphen $G = (V, E)$ gibt es einen Knoten $s \\in V$, so dass der $SPT(G, s)$ ein $MST$ von $G$ ist.\n",
    "\n",
    "Diese Aussage gilt nicht. Zu zeigen an folgendem Beispiel: Gegeben der Graph $G$ mit den Knoten $A, B, C$ und den gewichteten Kanten $(A, B, 2)$, $(B, C, 2)$ und $(C, A, 3)$.\n",
    "\n",
    "```\n",
    "(A)--2--(B)--2--(C)\n",
    " |               |\n",
    " --------3--------\n",
    "\n",
    "```\n",
    "\n",
    "Der $MST(G)$ besteht dabei aus den Kanten $(A,B)$ und $(B,C)$. Der kürzeste Pfad zwischen $A$ und $C$ (Kosten $3$) ist jedoch nicht teil des Graphens. Dadurch kann es keinen $SPT(G, s)$ geben, der zugleich auch ein $MST$ von $G$ ist.\n",
    "\n",
    "## b)\n",
    "\n",
    "**Zeige, dass für jeden ungerichteten Graphen $G$ mit $n$ Knoten und für jeden Startknoten $s$\n",
    "folgendes gilt:**\n",
    "\n",
    "$$ cost(MST(G)) \\leq cost(SPT(G, s)) \\leq (n − 1) * cost(MST(G)) $$\n",
    "\n",
    "### 1. $cost(MST(G)) \\leq cost(SPT(G, s))$:\n",
    "\n",
    "Nach definition ist jeder $SPT$ auch ein Spanning Tree, da alle Knoten kreisfrei durch eine Kante verbunden sind. Wären nun die Kosten von $MST(G)$ größer als die Kosten des $SPT(G, s)$, so müsste es einen anderen Spanning Tree in $G$ geben, der kleinere Kosten als der $MST$ hat. Dies widerspricht jedoch der Definition von $MST$, wodurch $cost(MST(G)) \\leq cost(SPT(G, s))$ gelten muss.\n",
    "\n",
    "### 2. $cost(SPT(G, s)) \\leq (n − 1) * cost(MST(G))$:\n",
    "\n",
    "Auch der $MST$ enthält zu jedem Knoten einen Pfad. Wäre nun $cost(SPT(G, s))$ größer als $cost(MST(G))$, so könnte man auch $n-1$ mal den MST für den kürzesten Pfad benutzen. $SPT(G, s)$ kann in diesem Fall also nicht die kürzesten Pfade enthalten, was ein Widerspruch ist."
   ]
  },
  {
   "cell_type": "markdown",
   "metadata": {},
   "source": [
    "## Aufgabe 2\n",
    "\n",
    "## a)\n",
    "\n",
    "![](https://user-images.githubusercontent.com/7422050/34730221-692ab296-f567-11e7-8cd6-6f29455c7a30.jpg)\n",
    "\n",
    "## b)\n",
    "\n",
    "![](https://user-images.githubusercontent.com/7422050/34730229-6fd635f2-f567-11e7-8706-44335d0a2764.jpg)"
   ]
  },
  {
   "cell_type": "markdown",
   "metadata": {},
   "source": [
    "## Aufgabe 3\n",
    "\n",
    "## a) Beweise Lemma 1:\n",
    "\n",
    "**IA:** Wenn $u$ ein neuer virtueller Vater von $w$ wird, dann gibt es nach Definition von `Link`/`RankedLink` einen Pfad von $u$ nach $w$ im DAG.\n",
    "\n",
    "**IS:** Angenommen $w$ ist ein virtuelles Kind von $u$ und es existiert ein Pfag zwischen $w$ und $u$ im DAG. Nun gilt, dass keine Operation diesen Pfad zerstören kann.\n",
    "\n",
    "1. `Insert, Link, RankedLink`: Diese Operationen können den Pfad nicht zerstören, weil sie keine bestehenden Vater-Kind-Pfade anrühren.\n",
    "2. `ExtractMin`, `Delete`:  Auch diese Operationen können den Pfad nicht zerstören, weil hierbei nur hohle Knoten erzeugt, die Kanten aber nicht verändert werden. Außnahme: Zu löschender Knoten ist die Wurzel oder ein hohler Knoten. In diesem Fall, würde aber er Pfad zwischen $u$ und $w$ nur verändert werden, wenn $u$ oder $w$ gelöscht wird. Dadurch besteht aber keine Virtuelles-Kind-Relation mehr zwischen ihnen.\n",
    "3. `DecreaseKey`: Auch diese Operation verändert den Pfad zwischen $u$ und $w$ nicht, da es nur für hohle Knoten sorgt oder neue Pfade hinzufügt."
   ]
  },
  {
   "cell_type": "markdown",
   "metadata": {},
   "source": [
    "# Aufgabe 4\n",
    "\n",
    "Würde es eine Priority Queue mit diesen Eigenschaften geben, so könnte man einen Sortier-Algorithmus bauen, der in $O(n)$ jede beliebige Eingabe (mit vergleichbaren Elementen) sortiert. Hierzu würde man einfach alle Elemente in die Priority Queue einfügen und anschließend nach der Reihenfolge von `extractMin` in das Ausgabe-Array einfügen. Das dies nicht möglich ist, zeigt der Beweis, dass alle vergleichsbasierte Sortierverfahren eine untere Schranke von $O(n \\log n)$ haben."
   ]
  }
 ],
 "metadata": {
  "kernelspec": {
   "display_name": "Python 3",
   "language": "python",
   "name": "python3"
  },
  "language_info": {
   "codemirror_mode": {
    "name": "ipython",
    "version": 3
   },
   "file_extension": ".py",
   "mimetype": "text/x-python",
   "name": "python",
   "nbconvert_exporter": "python",
   "pygments_lexer": "ipython3",
   "version": "3.5.3"
  }
 },
 "nbformat": 4,
 "nbformat_minor": 2
}
