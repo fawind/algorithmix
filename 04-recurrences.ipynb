{
 "cells": [
  {
   "cell_type": "markdown",
   "metadata": {},
   "source": [
    "# Recurrences and Master Theorem\n",
    "\n",
    "## Solving Recurrences\n",
    "\n",
    "1. Iteratively insert recurrence into itself.\n",
    "2. Put up an assumption for recurrence after $i$ insertions.\n",
    "3. Proof correctness.\n",
    "4. Calculate number of calls until recursion terminates.\n",
    "\n",
    "## Master Theorem\n",
    "\n",
    "Given a recurrenz with the form $T(n) = aT(\\frac{n}{b}) + f(n)$ with constants $a \\geq 1$ and $b \\geq 1$. $T(n)$ can be restricted asymptotically:\n",
    "\n",
    "1. If $f(n) \\in O(n^{\\log_b a - \\epsilon})$ (with $\\epsilon > 0$): $T(n) \\in \\Theta(n^{\\log_b a})$\n",
    "2. If $f(n) \\in \\Theta(n^{\\log_b a})$: $T(n) \\in \\Theta(n^{\\log_b a} \\log n)$\n",
    "3. If $f(n) \\in \\Omega(n^{\\log_b a + \\epsilon})$ (with $\\epsilon > 0$) and if $af(\\frac{n}{b}) \\leq cf(n)$ with $c < 1$ and for all $n \\geq n_0$ with $n_0 > 0$: $T(n) \\in \\Theta(f(n))$"
   ]
  }
 ],
 "metadata": {
  "kernelspec": {
   "display_name": "Python 3",
   "language": "python",
   "name": "python3"
  },
  "language_info": {
   "codemirror_mode": {
    "name": "ipython",
    "version": 3
   },
   "file_extension": ".py",
   "mimetype": "text/x-python",
   "name": "python",
   "nbconvert_exporter": "python",
   "pygments_lexer": "ipython3",
   "version": "3.6.3"
  }
 },
 "nbformat": 4,
 "nbformat_minor": 2
}
