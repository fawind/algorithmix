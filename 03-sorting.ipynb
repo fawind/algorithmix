{
 "cells": [
  {
   "cell_type": "markdown",
   "metadata": {},
   "source": [
    "# Lower Bound for Comparison Based Sorting\n",
    "\n",
    "**Theorem 1:** Every comparison based sorting algorithms needs worst-case $\\Omega(n \\log n)$ comparisions on an instance with $n$ pairwise different elements.\n",
    "\n",
    "**Theorem 2:** All comparison based sorting algorithms have average-case costs in $\\Omega(n \\log n)$ "
   ]
  },
  {
   "cell_type": "markdown",
   "metadata": {},
   "source": [
    "# Faster Sorting\n",
    "\n",
    "## Countingsort\n",
    "\n",
    "**Runtime**: $O(n + z)$ for keys in interval $[0, z]$\n",
    "\n",
    "## Radixsort\n",
    "\n",
    "```\n",
    "1. init k-th slot with the most right slot\n",
    "2. for j = k downto 1 do\n",
    "3.   A = A sorted with Countingsort after slot j\n",
    "4. end for\n",
    "5. return A\n",
    "```\n",
    "\n",
    "### Sorting numbers in $[-n^c, n^c]$ in linear time\n",
    "\n",
    "* Each decimal number $x$ with $x \\leq n^c - 1$ hat a maximym length of $c * \\log_{10} n$.\n",
    "* When adding leading zeroes, one can fix the length of all keys to $c * \\log_{10} n$.\n",
    "* If you combine $r$ digits to one \"bit\", the radix increases to $10^r$. This reduces the key-array for Countingsort to $[0, 10^r - 1]$.\n",
    "\n",
    "=> Only $\\frac{c * log_{10} n}{r}$ rounds of Countingsort needed.\n",
    "\n",
    "=> Each Countingsort has a runtime of $O(n + 10^r)$.\n",
    "\n",
    "=> Runtime of radix sort: $O(\\frac{c * log_{10} n}{r} (n + 10^r))$.\n",
    "\n",
    "=> Choosing $r = \\log_{10} n$, Radixsort only needs $O(c)$ rounds and each call of Countingsort runs in $O(n + 10^{\\log_{10} n}) = O(n)$.\n",
    "\n",
    "=> Runtime of Radixsort in $O(c * n)$."
   ]
  }
 ],
 "metadata": {
  "kernelspec": {
   "display_name": "Python 3",
   "language": "python",
   "name": "python3"
  },
  "language_info": {
   "codemirror_mode": {
    "name": "ipython",
    "version": 3
   },
   "file_extension": ".py",
   "mimetype": "text/x-python",
   "name": "python",
   "nbconvert_exporter": "python",
   "pygments_lexer": "ipython3",
   "version": "3.6.3"
  }
 },
 "nbformat": 4,
 "nbformat_minor": 2
}
