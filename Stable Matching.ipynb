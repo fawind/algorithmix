{
 "cells": [
  {
   "cell_type": "markdown",
   "metadata": {},
   "source": [
    "# Kidney Exchange\n",
    "\n",
    "1. $n$ Patients $P = \\{p_1, ..., p_n\\}$.\n",
    "2. $n$ Kidneys $N = \\{n_1, ..., n_n\\}$.\n",
    "3. $n_i$ is provided by the donor of $p_i$.\n",
    "4. Each patient has a preference list (permutation of $N$) $L_i = n_1^i, n_2^i, ..., n_n^i$.\n",
    "5. $n_a \\geq^i n_b$ => $n_a$ is better or equal then $n_b$ for $p_i$.\n",
    "\n",
    "**Goal:** Find an assignment $z = (z_1, ..., z_n)$ that all patients are \"happy\" with.\n",
    "\n",
    "**Unhappy Coalition:**\n",
    "* $Perm(X)$ = Set of all permutation of $X$.\n",
    "* $Perm(N)$ = Set of all possible assignments.\n",
    "\n",
    "* Let $z = (z_1, ..., z_n) \\in Perm(N)$ be an arbitrary assignment.\n",
    "* Let $K \\subseteq P$.\n",
    "* Let $T(z, K) = \\{n \\in N \\mid \\exists p_j \\in K : z_j = n\\}$\n",
    "\n",
    "=> $K$ is an unhappy coalition for $z$, if the patients from $K$ can exchange inbetween them and all patients only improve.\n",
    "\n",
    "=> $K$ is an unhappy coalition for the assignment $z$, if the assignment $x \\in Perm(N)$ exists, with:\n",
    "1. $T(x, K) = T(z, K)$\n",
    "2. $\\forall p_i \\in K: x_i >^i z_i$\n",
    "\n",
    "**Weakly Stable Assignment:**\n",
    "An assignment $z$ is weakly stable if there is no unhappy coalition for $z$.\n",
    "\n",
    "**Blocking Coalition:**\n",
    "$K$ is a blocking coalition for the assignment $z$ if an assignment $x \\in Perm(N)$ exists with:\n",
    "1. $T(x, K) = T(z^*, K)$\n",
    "2. $\\forall p_i \\in K: x_i \\geq^i z_i$\n",
    "3. $\\exists p_j \\in K: x_j >^j z_j$\n",
    "\n",
    "**Stable Assignment:**\n",
    "An assignment $x$ is stable if there is no blocking coalition for x."
   ]
  }
 ],
 "metadata": {
  "kernelspec": {
   "display_name": "Python 3",
   "language": "python",
   "name": "python3"
  },
  "language_info": {
   "codemirror_mode": {
    "name": "ipython",
    "version": 3
   },
   "file_extension": ".py",
   "mimetype": "text/x-python",
   "name": "python",
   "nbconvert_exporter": "python",
   "pygments_lexer": "ipython3",
   "version": "3.5.3"
  }
 },
 "nbformat": 4,
 "nbformat_minor": 2
}
