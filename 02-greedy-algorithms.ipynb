{
 "cells": [
  {
   "cell_type": "markdown",
   "metadata": {},
   "source": [
    "# Greedy Algorithms\n",
    "\n",
    "## Problem 1: Scheduling Jobs\n",
    "\n",
    "**Given:** $n$ print jobs with start and end time $(s(i), e(i))$, for $1 \\leq i \\leq n$.  \n",
    "**Task:** Find largest number of non overlapping jobs.\n",
    "\n",
    "**Idea:** Pick job with the earliest end time. Remove all overlapping jobs. Iterate until no more jobs are available.\n",
    "\n",
    "### Proof using \"Greedy Stays Ahead\"\n",
    "\n",
    "**To Proof:** $|Alg| = |Opt|$ with $Opt$ beeing the number of jobs of an optimal algorithm and $Alg$ the number of jobs of our algorithm.\n",
    "\n",
    "**Principle of Greedy Stays Ahead:** We can compare the partial results of $Opt$ and $Alg$ for each point in time $t$. If for any given point in time $t$, the solution of $Alg$ is as good as $Opt$, we can conclude that for $t = \\infty$ $|Alg| \\leq |Opt|$. Since $Opt$ is the optimal solution, we conclude that $|Alg| = |Opt|$.\n",
    "\n",
    "## Problem 2: Offline Paging\n",
    "\n",
    "**Given:** Cache of size $k$ with an initial assignment and a request sequence $P = p_1, ..., p_m$.  \n",
    "**Task:** Find a caching strategy, that minimizes the number of replacements in the cache.\n",
    "\n",
    "**Idea:** *Farthest-in-the-Future (FF)* Always replace the page, which next occurence is the farthest in the future.\n",
    "\n",
    "**Definition - Lazy Caching Strategy:** A caching strategy is lazy, if it only replaces pages on cache miss.\n",
    "\n",
    "**Lemma:** Every caching strategy can be converted into a lazy caching strategy without adding additional replacements.\n",
    "\n",
    "### Proof Optimality of FF using \"Replacement Argument\"\n",
    "\n",
    "**Principle of the Replacement Argument:** Given an arbitrary instance of the paging problem with a sequence $P$ and arbitrary starting cache. $S_{FF}$ is the caching strategy of Farthest-in-the-Future. $F^*$ is the optimal caching strategy (lazy) of the same instance. We are now showing, that we can convert $S^*$ step by step into $S_{FF}$ without increasing the number of cache reloads.\n",
    "\n",
    "## Online Paging\n",
    "\n",
    "**Given:** Cache of size $k$ with an initial assignment and a request sequence $P = p_1, ..., p_m$. For each $1 \\leq i \\leq m - 1$, the request $p_{i+1}$ is only shown after request $p_i$ is completed.  \n",
    "**Task:** Find a caching strategy, that minimizes the number of replacements in the cache.\n",
    "\n",
    "**Definition - $\\alpha$-Competitive:** Let $C_{ALG}(I)$ be the costs of the online algorithm $ALG$ on instance $I$. Let $C_{OPT}(I)$ be the costs of the optimal offline algorithm for the same instance. $ALG$ is $\\alpha$-competitive if there exists a constant $c$, so that all instances $I$ hold:\n",
    "\n",
    "$$C_{ALG}(I) \\leq \\alpha * C_{OPT}(I) + c$$\n",
    "\n",
    "**Theorem:** If a deterministic online algorithm $ALG$ is $\\alpha$-competitive, one has $\\alpha \\geq k$ ($k$ beeing the size of the cache).\n",
    "\n",
    "**Theorem:** LRU is k-competitive.\n"
   ]
  }
 ],
 "metadata": {
  "kernelspec": {
   "display_name": "Python 3",
   "language": "python",
   "name": "python3"
  },
  "language_info": {
   "codemirror_mode": {
    "name": "ipython",
    "version": 3
   },
   "file_extension": ".py",
   "mimetype": "text/x-python",
   "name": "python",
   "nbconvert_exporter": "python",
   "pygments_lexer": "ipython3",
   "version": "3.5.3"
  }
 },
 "nbformat": 4,
 "nbformat_minor": 2
}
